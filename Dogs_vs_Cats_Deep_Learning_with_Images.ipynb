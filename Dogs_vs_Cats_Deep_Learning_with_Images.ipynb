{
  "nbformat": 4,
  "nbformat_minor": 0,
  "metadata": {
    "colab": {
      "name": "Dogs vs. Cats : Deep Learning with Images.ipynb",
      "provenance": [],
      "include_colab_link": true
    },
    "kernelspec": {
      "name": "python3",
      "display_name": "Python 3"
    },
    "accelerator": "GPU"
  },
  "cells": [
    {
      "cell_type": "markdown",
      "metadata": {
        "id": "view-in-github",
        "colab_type": "text"
      },
      "source": [
        "<a href=\"https://colab.research.google.com/github/ThanakitCh/hello-world/blob/master/Dogs_vs_Cats_Deep_Learning_with_Images.ipynb\" target=\"_parent\"><img src=\"https://colab.research.google.com/assets/colab-badge.svg\" alt=\"Open In Colab\"/></a>"
      ]
    },
    {
      "cell_type": "markdown",
      "metadata": {
        "id": "ahbS52V0rKMk",
        "colab_type": "text"
      },
      "source": [
        "# Dogs vs. Cats : Deep Learning with Images\n",
        "Build a convolutional neural network to classify whether images contain either a dog or a cat."
      ]
    },
    {
      "cell_type": "code",
      "metadata": {
        "id": "eRjV6bdsh2_Q",
        "colab_type": "code",
        "colab": {}
      },
      "source": [
        "import os\n",
        "import zipfile\n",
        "import time\n",
        "import numpy as np\n",
        "import matplotlib.pyplot as plt\n",
        "import tensorflow as tf\n",
        "from tensorflow.keras.optimizers import RMSprop\n",
        "from tensorflow.keras.preprocessing import image\n",
        "from tensorflow.keras.preprocessing.image import ImageDataGenerator\n",
        "from google.colab import files"
      ],
      "execution_count": 0,
      "outputs": []
    },
    {
      "cell_type": "code",
      "metadata": {
        "id": "LjiXCnvIjNs0",
        "colab_type": "code",
        "colab": {}
      },
      "source": [
        "local_zip = '/content/cats_and_dogs_filtered.zip'\n",
        "zip_ref = zipfile.ZipFile(local_zip, 'r')\n",
        "zip_ref.extractall('/data')\n",
        "zip_ref.close()\n",
        "\n",
        "base_dir = '/data/cats_and_dogs_filtered'\n",
        "train_dir = os.path.join(base_dir, 'train')\n",
        "validation_dir = os.path.join(base_dir, 'validation')\n",
        "\n",
        "# Directory with our training cat/dog pictures\n",
        "train_cats_dir = os.path.join(train_dir, 'cats')\n",
        "train_dogs_dir = os.path.join(train_dir, 'dogs')\n",
        "\n",
        "# Directory with our validation cat/dog pictures\n",
        "validation_cats_dir = os.path.join(validation_dir, 'cats')\n",
        "validation_dogs_dir = os.path.join(validation_dir, 'dogs')"
      ],
      "execution_count": 0,
      "outputs": []
    },
    {
      "cell_type": "code",
      "metadata": {
        "id": "2Wtwf2h1jo2T",
        "colab_type": "code",
        "colab": {
          "base_uri": "https://localhost:8080/",
          "height": 87
        },
        "outputId": "3ff7d0b8-8f72-43ec-c049-f85d16e6d48c"
      },
      "source": [
        "train_cat_fnames = os.listdir( train_cats_dir )\n",
        "train_dog_fnames = os.listdir( train_dogs_dir )\n",
        "\n",
        "print('total training cat images :', len(os.listdir(train_cats_dir)))\n",
        "print('total training dog images :', len(os.listdir(train_dogs_dir)))\n",
        "\n",
        "print('total validation cat images :', len(os.listdir(validation_cats_dir)))\n",
        "print('total validation dog images :', len(os.listdir(validation_dogs_dir)))"
      ],
      "execution_count": 3,
      "outputs": [
        {
          "output_type": "stream",
          "text": [
            "total training cat images : 1000\n",
            "total training dog images : 1000\n",
            "total validation cat images : 500\n",
            "total validation dog images : 500\n"
          ],
          "name": "stdout"
        }
      ]
    },
    {
      "cell_type": "code",
      "metadata": {
        "id": "9eDwCgiyjvZo",
        "colab_type": "code",
        "colab": {}
      },
      "source": [
        "class myCallback(tf.keras.callbacks.Callback):\n",
        "  def on_epoch_end(self, epoch, logs={}):\n",
        "    if(logs.get('acc')>0.8):\n",
        "      print(\"\\nReached 80% accuracy so cancelling training!\")\n",
        "      self.model.stop_training = True\n",
        "      \n",
        "callbacks = myCallback()"
      ],
      "execution_count": 0,
      "outputs": []
    },
    {
      "cell_type": "code",
      "metadata": {
        "id": "4FO4Hu-wlsDM",
        "colab_type": "code",
        "colab": {
          "base_uri": "https://localhost:8080/",
          "height": 141
        },
        "outputId": "2aff0808-c64d-4ad8-dd33-b00755a0b2db"
      },
      "source": [
        "model = tf.keras.models.Sequential([\n",
        "    tf.keras.layers.Conv2D(32, (3,3), activation='relu', input_shape=(150, 150, 3)),\n",
        "    tf.keras.layers.MaxPooling2D(2, 2),\n",
        "    tf.keras.layers.Conv2D(64, (3,3), activation='relu'),\n",
        "    tf.keras.layers.MaxPooling2D(2,2),\n",
        "    tf.keras.layers.Conv2D(128, (3,3), activation='relu'),\n",
        "    tf.keras.layers.MaxPooling2D(2,2),\n",
        "    tf.keras.layers.Conv2D(128, (3,3), activation='relu'),\n",
        "    tf.keras.layers.MaxPooling2D(2,2),\n",
        "    tf.keras.layers.Flatten(),\n",
        "    tf.keras.layers.Dense(512, activation='relu'),\n",
        "    tf.keras.layers.Dense(1, activation='sigmoid')\n",
        "])\n",
        "\n",
        "model.compile(loss='binary_crossentropy',\n",
        "              optimizer=RMSprop(lr=1e-4),\n",
        "              metrics=['acc'])"
      ],
      "execution_count": 5,
      "outputs": [
        {
          "output_type": "stream",
          "text": [
            "WARNING:tensorflow:From /usr/local/lib/python3.6/dist-packages/tensorflow_core/python/ops/resource_variable_ops.py:1630: calling BaseResourceVariable.__init__ (from tensorflow.python.ops.resource_variable_ops) with constraint is deprecated and will be removed in a future version.\n",
            "Instructions for updating:\n",
            "If using Keras pass *_constraint arguments to layers.\n",
            "WARNING:tensorflow:From /usr/local/lib/python3.6/dist-packages/tensorflow_core/python/ops/nn_impl.py:183: where (from tensorflow.python.ops.array_ops) is deprecated and will be removed in a future version.\n",
            "Instructions for updating:\n",
            "Use tf.where in 2.0, which has the same broadcast rule as np.where\n"
          ],
          "name": "stdout"
        }
      ]
    },
    {
      "cell_type": "code",
      "metadata": {
        "id": "NjZpBzfKmZiS",
        "colab_type": "code",
        "colab": {
          "base_uri": "https://localhost:8080/",
          "height": 52
        },
        "outputId": "9e6bc510-1df5-46ae-f68e-23ff69086228"
      },
      "source": [
        "train_datagen = ImageDataGenerator(\n",
        "      rescale=1./255,\n",
        "      rotation_range=40,\n",
        "      width_shift_range=0.2,\n",
        "      height_shift_range=0.2,\n",
        "      shear_range=0.2,\n",
        "      zoom_range=0.2,\n",
        "      horizontal_flip=True,\n",
        "      fill_mode='nearest')\n",
        "\n",
        "test_datagen = ImageDataGenerator(rescale=1./255)\n",
        "\n",
        "train_generator = train_datagen.flow_from_directory(\n",
        "        train_dir,\n",
        "        target_size=(150, 150),\n",
        "        batch_size=20,\n",
        "        class_mode='binary')\n",
        "\n",
        "validation_generator = test_datagen.flow_from_directory(\n",
        "        validation_dir,  \n",
        "        target_size=(150, 150),\n",
        "        batch_size=20,\n",
        "        class_mode='binary')\n"
      ],
      "execution_count": 6,
      "outputs": [
        {
          "output_type": "stream",
          "text": [
            "Found 2000 images belonging to 2 classes.\n",
            "Found 1000 images belonging to 2 classes.\n"
          ],
          "name": "stdout"
        }
      ]
    },
    {
      "cell_type": "code",
      "metadata": {
        "id": "oJhLeECCmgFE",
        "colab_type": "code",
        "colab": {
          "base_uri": "https://localhost:8080/",
          "height": 1000
        },
        "outputId": "06ac7b29-a20b-4260-d877-f9bc3f0be9c4"
      },
      "source": [
        "start = time.time()\n",
        "history = model.fit_generator(\n",
        "      train_generator,\n",
        "      steps_per_epoch=100,  \n",
        "      epochs=1000,\n",
        "      verbose=2,\n",
        "      validation_data = validation_generator,\n",
        "      validation_steps=50, \n",
        "      callbacks=[callbacks])\n",
        "end = time.time()\n",
        "print(\"time_total :\", end - start, \"seconds!\")"
      ],
      "execution_count": 7,
      "outputs": [
        {
          "output_type": "stream",
          "text": [
            "Epoch 1/1000\n",
            "Epoch 1/1000\n",
            "100/100 - 23s - loss: 0.6942 - acc: 0.5225 - val_loss: 0.6768 - val_acc: 0.5700\n",
            "Epoch 2/1000\n",
            "Epoch 1/1000\n",
            "100/100 - 19s - loss: 0.6829 - acc: 0.5565 - val_loss: 0.6534 - val_acc: 0.6380\n",
            "Epoch 3/1000\n",
            "Epoch 1/1000\n",
            "100/100 - 19s - loss: 0.6629 - acc: 0.5895 - val_loss: 0.6322 - val_acc: 0.6460\n",
            "Epoch 4/1000\n",
            "Epoch 1/1000\n",
            "100/100 - 19s - loss: 0.6437 - acc: 0.6280 - val_loss: 0.6119 - val_acc: 0.6850\n",
            "Epoch 5/1000\n",
            "Epoch 1/1000\n",
            "100/100 - 19s - loss: 0.6324 - acc: 0.6400 - val_loss: 0.5930 - val_acc: 0.6790\n",
            "Epoch 6/1000\n",
            "Epoch 1/1000\n",
            "100/100 - 19s - loss: 0.6256 - acc: 0.6520 - val_loss: 0.5896 - val_acc: 0.6900\n",
            "Epoch 7/1000\n",
            "Epoch 1/1000\n",
            "100/100 - 19s - loss: 0.5975 - acc: 0.6790 - val_loss: 0.7067 - val_acc: 0.5700\n",
            "Epoch 8/1000\n",
            "Epoch 1/1000\n",
            "100/100 - 19s - loss: 0.6107 - acc: 0.6690 - val_loss: 0.5629 - val_acc: 0.7170\n",
            "Epoch 9/1000\n",
            "Epoch 1/1000\n",
            "100/100 - 19s - loss: 0.5970 - acc: 0.6765 - val_loss: 0.6180 - val_acc: 0.6320\n",
            "Epoch 10/1000\n",
            "Epoch 1/1000\n",
            "100/100 - 19s - loss: 0.5873 - acc: 0.7020 - val_loss: 0.5569 - val_acc: 0.6950\n",
            "Epoch 11/1000\n",
            "Epoch 1/1000\n",
            "100/100 - 19s - loss: 0.5806 - acc: 0.6915 - val_loss: 0.5595 - val_acc: 0.7080\n",
            "Epoch 12/1000\n",
            "Epoch 1/1000\n",
            "100/100 - 19s - loss: 0.5775 - acc: 0.6940 - val_loss: 0.5474 - val_acc: 0.7210\n",
            "Epoch 13/1000\n",
            "Epoch 1/1000\n",
            "100/100 - 19s - loss: 0.5798 - acc: 0.6895 - val_loss: 0.5270 - val_acc: 0.7210\n",
            "Epoch 14/1000\n",
            "Epoch 1/1000\n",
            "100/100 - 19s - loss: 0.5626 - acc: 0.7050 - val_loss: 0.5428 - val_acc: 0.7210\n",
            "Epoch 15/1000\n",
            "Epoch 1/1000\n",
            "100/100 - 19s - loss: 0.5493 - acc: 0.7270 - val_loss: 0.5410 - val_acc: 0.7380\n",
            "Epoch 16/1000\n",
            "Epoch 1/1000\n",
            "100/100 - 19s - loss: 0.5530 - acc: 0.7190 - val_loss: 0.5171 - val_acc: 0.7290\n",
            "Epoch 17/1000\n",
            "Epoch 1/1000\n",
            "100/100 - 19s - loss: 0.5532 - acc: 0.7015 - val_loss: 0.5642 - val_acc: 0.6980\n",
            "Epoch 18/1000\n",
            "Epoch 1/1000\n",
            "100/100 - 19s - loss: 0.5498 - acc: 0.7175 - val_loss: 0.5116 - val_acc: 0.7290\n",
            "Epoch 19/1000\n",
            "Epoch 1/1000\n",
            "100/100 - 19s - loss: 0.5416 - acc: 0.7215 - val_loss: 0.5268 - val_acc: 0.7250\n",
            "Epoch 20/1000\n",
            "Epoch 1/1000\n",
            "100/100 - 19s - loss: 0.5505 - acc: 0.7195 - val_loss: 0.4955 - val_acc: 0.7420\n",
            "Epoch 21/1000\n",
            "Epoch 1/1000\n",
            "100/100 - 20s - loss: 0.5377 - acc: 0.7255 - val_loss: 0.5115 - val_acc: 0.7470\n",
            "Epoch 22/1000\n",
            "Epoch 1/1000\n",
            "100/100 - 19s - loss: 0.5343 - acc: 0.7360 - val_loss: 0.5685 - val_acc: 0.7010\n",
            "Epoch 23/1000\n",
            "Epoch 1/1000\n",
            "100/100 - 19s - loss: 0.5312 - acc: 0.7355 - val_loss: 0.4943 - val_acc: 0.7470\n",
            "Epoch 24/1000\n",
            "Epoch 1/1000\n",
            "100/100 - 19s - loss: 0.5176 - acc: 0.7540 - val_loss: 0.4794 - val_acc: 0.7660\n",
            "Epoch 25/1000\n",
            "Epoch 1/1000\n",
            "100/100 - 19s - loss: 0.5082 - acc: 0.7540 - val_loss: 0.4963 - val_acc: 0.7400\n",
            "Epoch 26/1000\n",
            "Epoch 1/1000\n",
            "100/100 - 19s - loss: 0.5128 - acc: 0.7445 - val_loss: 0.5213 - val_acc: 0.7360\n",
            "Epoch 27/1000\n",
            "Epoch 1/1000\n",
            "100/100 - 19s - loss: 0.5182 - acc: 0.7425 - val_loss: 0.5025 - val_acc: 0.7480\n",
            "Epoch 28/1000\n",
            "Epoch 1/1000\n",
            "100/100 - 19s - loss: 0.5085 - acc: 0.7410 - val_loss: 0.4728 - val_acc: 0.7700\n",
            "Epoch 29/1000\n",
            "Epoch 1/1000\n",
            "100/100 - 19s - loss: 0.5045 - acc: 0.7525 - val_loss: 0.4793 - val_acc: 0.7630\n",
            "Epoch 30/1000\n",
            "Epoch 1/1000\n",
            "100/100 - 19s - loss: 0.5010 - acc: 0.7600 - val_loss: 0.4817 - val_acc: 0.7590\n",
            "Epoch 31/1000\n",
            "Epoch 1/1000\n",
            "100/100 - 19s - loss: 0.5015 - acc: 0.7540 - val_loss: 0.5017 - val_acc: 0.7500\n",
            "Epoch 32/1000\n",
            "Epoch 1/1000\n",
            "100/100 - 19s - loss: 0.5058 - acc: 0.7525 - val_loss: 0.4885 - val_acc: 0.7510\n",
            "Epoch 33/1000\n",
            "Epoch 1/1000\n",
            "100/100 - 19s - loss: 0.4975 - acc: 0.7625 - val_loss: 0.5292 - val_acc: 0.7250\n",
            "Epoch 34/1000\n",
            "Epoch 1/1000\n",
            "100/100 - 19s - loss: 0.4965 - acc: 0.7610 - val_loss: 0.4815 - val_acc: 0.7680\n",
            "Epoch 35/1000\n",
            "Epoch 1/1000\n",
            "100/100 - 19s - loss: 0.4828 - acc: 0.7650 - val_loss: 0.4791 - val_acc: 0.7470\n",
            "Epoch 36/1000\n",
            "Epoch 1/1000\n",
            "100/100 - 19s - loss: 0.4768 - acc: 0.7655 - val_loss: 0.4517 - val_acc: 0.7680\n",
            "Epoch 37/1000\n",
            "Epoch 1/1000\n",
            "100/100 - 19s - loss: 0.4706 - acc: 0.7770 - val_loss: 0.4463 - val_acc: 0.7820\n",
            "Epoch 38/1000\n",
            "Epoch 1/1000\n",
            "100/100 - 19s - loss: 0.4874 - acc: 0.7665 - val_loss: 0.4403 - val_acc: 0.7870\n",
            "Epoch 39/1000\n",
            "Epoch 1/1000\n",
            "100/100 - 19s - loss: 0.4823 - acc: 0.7715 - val_loss: 0.4595 - val_acc: 0.7710\n",
            "Epoch 40/1000\n",
            "Epoch 1/1000\n",
            "100/100 - 19s - loss: 0.4697 - acc: 0.7800 - val_loss: 0.4528 - val_acc: 0.7710\n",
            "Epoch 41/1000\n",
            "Epoch 1/1000\n",
            "100/100 - 19s - loss: 0.4683 - acc: 0.7840 - val_loss: 0.4451 - val_acc: 0.7770\n",
            "Epoch 42/1000\n",
            "Epoch 1/1000\n",
            "100/100 - 19s - loss: 0.4609 - acc: 0.7855 - val_loss: 0.5672 - val_acc: 0.7180\n",
            "Epoch 43/1000\n",
            "Epoch 1/1000\n",
            "100/100 - 19s - loss: 0.4504 - acc: 0.7905 - val_loss: 0.4773 - val_acc: 0.7610\n",
            "Epoch 44/1000\n",
            "Epoch 1/1000\n",
            "100/100 - 19s - loss: 0.4651 - acc: 0.7695 - val_loss: 0.4352 - val_acc: 0.7890\n",
            "Epoch 45/1000\n",
            "Epoch 1/1000\n",
            "100/100 - 19s - loss: 0.4616 - acc: 0.7775 - val_loss: 0.4367 - val_acc: 0.7890\n",
            "Epoch 46/1000\n",
            "Epoch 1/1000\n",
            "100/100 - 19s - loss: 0.4556 - acc: 0.7905 - val_loss: 0.4454 - val_acc: 0.7810\n",
            "Epoch 47/1000\n",
            "Epoch 1/1000\n",
            "100/100 - 19s - loss: 0.4646 - acc: 0.7785 - val_loss: 0.4932 - val_acc: 0.7530\n",
            "Epoch 48/1000\n",
            "Epoch 1/1000\n",
            "100/100 - 19s - loss: 0.4482 - acc: 0.7840 - val_loss: 0.4332 - val_acc: 0.7920\n",
            "Epoch 49/1000\n",
            "Epoch 1/1000\n",
            "100/100 - 19s - loss: 0.4390 - acc: 0.7980 - val_loss: 0.4671 - val_acc: 0.7760\n",
            "Epoch 50/1000\n",
            "Epoch 1/1000\n",
            "100/100 - 19s - loss: 0.4437 - acc: 0.7975 - val_loss: 0.4707 - val_acc: 0.7790\n",
            "Epoch 51/1000\n",
            "Epoch 1/1000\n",
            "100/100 - 19s - loss: 0.4426 - acc: 0.7920 - val_loss: 0.4455 - val_acc: 0.7750\n",
            "Epoch 52/1000\n",
            "Epoch 1/1000\n",
            "100/100 - 19s - loss: 0.4406 - acc: 0.7900 - val_loss: 0.4386 - val_acc: 0.7830\n",
            "Epoch 53/1000\n",
            "Epoch 1/1000\n",
            "100/100 - 19s - loss: 0.4506 - acc: 0.7955 - val_loss: 0.4586 - val_acc: 0.7790\n",
            "Epoch 54/1000\n",
            "Epoch 1/1000\n",
            "100/100 - 19s - loss: 0.4275 - acc: 0.7985 - val_loss: 0.4542 - val_acc: 0.7760\n",
            "Epoch 55/1000\n",
            "Epoch 1/1000\n",
            "100/100 - 19s - loss: 0.4307 - acc: 0.7890 - val_loss: 0.4534 - val_acc: 0.7780\n",
            "Epoch 56/1000\n",
            "Epoch 1/1000\n",
            "\n",
            "Reached 80% accuracy so cancelling training!\n",
            "100/100 - 19s - loss: 0.4299 - acc: 0.8080 - val_loss: 0.4398 - val_acc: 0.7760\n",
            "time_total : 1070.0177764892578 seconds!\n"
          ],
          "name": "stdout"
        }
      ]
    },
    {
      "cell_type": "code",
      "metadata": {
        "id": "IODi0LCCmqr6",
        "colab_type": "code",
        "colab": {
          "base_uri": "https://localhost:8080/",
          "height": 545
        },
        "outputId": "2bd479b3-06f1-4856-fb2e-bc9dcbafd05e"
      },
      "source": [
        "acc = history.history['acc']\n",
        "val_acc = history.history['val_acc']\n",
        "loss = history.history['loss']\n",
        "val_loss = history.history['val_loss']\n",
        "\n",
        "epochs = range(len(acc))\n",
        "\n",
        "plt.plot(epochs, acc, 'bo', label='Training accuracy')\n",
        "plt.plot(epochs, val_acc, 'b', label='Validation accuracy')\n",
        "plt.title('Training and validation accuracy')\n",
        "\n",
        "plt.figure()\n",
        "\n",
        "plt.plot(epochs, loss, 'bo', label='Training Loss')\n",
        "plt.plot(epochs, val_loss, 'b', label='Validation Loss')\n",
        "plt.title('Training and validation loss')\n",
        "plt.legend()\n",
        "\n",
        "plt.show()"
      ],
      "execution_count": 8,
      "outputs": [
        {
          "output_type": "display_data",
          "data": {
            "image/png": "[encoded data removed]",
            "text/plain": [
              "<Figure size 432x288 with 1 Axes>"
            ]
          },
          "metadata": {
            "tags": []
          }
        },
        {
          "output_type": "display_data",
          "data": {
            "image/png": "[encoded data removed]",
            "text/plain": [
              "<Figure size 432x288 with 1 Axes>"
            ]
          },
          "metadata": {
            "tags": []
          }
        }
      ]
    },
    {
      "cell_type": "code",
      "metadata": {
        "id": "JHEViUpdvTs4",
        "colab_type": "code",
        "colab": {
          "resources": {
            "http://localhost:8080/nbextensions/google.colab/files.js": {
              "data": "Ly8gQ29weXJpZ2h0IDIwMTcgR29vZ2xlIExMQwovLwovLyBMaWNlbnNlZCB1bmRlciB0aGUgQXBhY2hlIExpY2Vuc2UsIFZlcnNpb24gMi4wICh0aGUgIkxpY2Vuc2UiKTsKLy8geW91IG1heSBub3QgdXNlIHRoaXMgZmlsZSBleGNlcHQgaW4gY29tcGxpYW5jZSB3aXRoIHRoZSBMaWNlbnNlLgovLyBZb3UgbWF5IG9idGFpbiBhIGNvcHkgb2YgdGhlIExpY2Vuc2UgYXQKLy8KLy8gICAgICBodHRwOi8vd3d3LmFwYWNoZS5vcmcvbGljZW5zZXMvTElDRU5TRS0yLjAKLy8KLy8gVW5sZXNzIHJlcXVpcmVkIGJ5IGFwcGxpY2FibGUgbGF3IG9yIGFncmVlZCB0byBpbiB3cml0aW5nLCBzb2Z0d2FyZQovLyBkaXN0cmlidXRlZCB1bmRlciB0aGUgTGljZW5zZSBpcyBkaXN0cmlidXRlZCBvbiBhbiAiQVMgSVMiIEJBU0lTLAovLyBXSVRIT1VUIFdBUlJBTlRJRVMgT1IgQ09ORElUSU9OUyBPRiBBTlkgS0lORCwgZWl0aGVyIGV4cHJlc3Mgb3IgaW1wbGllZC4KLy8gU2VlIHRoZSBMaWNlbnNlIGZvciB0aGUgc3BlY2lmaWMgbGFuZ3VhZ2UgZ292ZXJuaW5nIHBlcm1pc3Npb25zIGFuZAovLyBsaW1pdGF0aW9ucyB1bmRlciB0aGUgTGljZW5zZS4KCi8qKgogKiBAZmlsZW92ZXJ2aWV3IEhlbHBlcnMgZm9yIGdvb2dsZS5jb2xhYiBQeXRob24gbW9kdWxlLgogKi8KKGZ1bmN0aW9uKHNjb3BlKSB7CmZ1bmN0aW9uIHNwYW4odGV4dCwgc3R5bGVBdHRyaWJ1dGVzID0ge30pIHsKICBjb25zdCBlbGVtZW50ID0gZG9jdW1lbnQuY3JlYXRlRWxlbWVudCgnc3BhbicpOwogIGVsZW1lbnQudGV4dENvbnRlbnQgPSB0ZXh0OwogIGZvciAoY29uc3Qga2V5IG9mIE9iamVjdC5rZXlzKHN0eWxlQXR0cmlidXRlcykpIHsKICAgIGVsZW1lbnQuc3R5bGVba2V5XSA9IHN0eWxlQXR0cmlidXRlc1trZXldOwogIH0KICByZXR1cm4gZWxlbWVudDsKfQoKLy8gTWF4IG51bWJlciBvZiBieXRlcyB3aGljaCB3aWxsIGJlIHVwbG9hZGVkIGF0IGEgdGltZS4KY29uc3QgTUFYX1BBWUxPQURfU0laRSA9IDEwMCAqIDEwMjQ7Ci8vIE1heCBhbW91bnQgb2YgdGltZSB0byBibG9jayB3YWl0aW5nIGZvciB0aGUgdXNlci4KY29uc3QgRklMRV9DSEFOR0VfVElNRU9VVF9NUyA9IDMwICogMTAwMDsKCmZ1bmN0aW9uIF91cGxvYWRGaWxlcyhpbnB1dElkLCBvdXRwdXRJZCkgewogIGNvbnN0IHN0ZXBzID0gdXBsb2FkRmlsZXNTdGVwKGlucHV0SWQsIG91dHB1dElkKTsKICBjb25zdCBvdXRwdXRFbGVtZW50ID0gZG9jdW1lbnQuZ2V0RWxlbWVudEJ5SWQob3V0cHV0SWQpOwogIC8vIENhY2hlIHN0ZXBzIG9uIHRoZSBvdXRwdXRFbGVtZW50IHRvIG1ha2UgaXQgYXZhaWxhYmxlIGZvciB0aGUgbmV4dCBjYWxsCiAgLy8gdG8gdXBsb2FkRmlsZXNDb250aW51ZSBmcm9tIFB5dGhvbi4KICBvdXRwdXRFbGVtZW50LnN0ZXBzID0gc3RlcHM7CgogIHJldHVybiBfdXBsb2FkRmlsZXNDb250aW51ZShvdXRwdXRJZCk7Cn0KCi8vIFRoaXMgaXMgcm91Z2hseSBhbiBhc3luYyBnZW5lcmF0b3IgKG5vdCBzdXBwb3J0ZWQgaW4gdGhlIGJyb3dzZXIgeWV0KSwKLy8gd2hlcmUgdGhlcmUgYXJlIG11bHRpcGxlIGFzeW5jaHJvbm91cyBzdGVwcyBhbmQgdGhlIFB5dGhvbiBzaWRlIGlzIGdvaW5nCi8vIHRvIHBvbGwgZm9yIGNvbXBsZXRpb24gb2YgZWFjaCBzdGVwLgovLyBUaGlzIHVzZXMgYSBQcm9taXNlIHRvIGJsb2NrIHRoZSBweXRob24gc2lkZSBvbiBjb21wbGV0aW9uIG9mIGVhY2ggc3RlcCwKLy8gdGhlbiBwYXNzZXMgdGhlIHJlc3VsdCBvZiB0aGUgcHJldmlvdXMgc3RlcCBhcyB0aGUgaW5wdXQgdG8gdGhlIG5leHQgc3RlcC4KZnVuY3Rpb24gX3VwbG9hZEZpbGVzQ29udGludWUob3V0cHV0SWQpIHsKICBjb25zdCBvdXRwdXRFbGVtZW50ID0gZG9jdW1lbnQuZ2V0RWxlbWVudEJ5SWQob3V0cHV0SWQpOwogIGNvbnN0IHN0ZXBzID0gb3V0cHV0RWxlbWVudC5zdGVwczsKCiAgY29uc3QgbmV4dCA9IHN0ZXBzLm5leHQob3V0cHV0RWxlbWVudC5sYXN0UHJvbWlzZVZhbHVlKTsKICByZXR1cm4gUHJvbWlzZS5yZXNvbHZlKG5leHQudmFsdWUucHJvbWlzZSkudGhlbigodmFsdWUpID0+IHsKICAgIC8vIENhY2hlIHRoZSBsYXN0IHByb21pc2UgdmFsdWUgdG8gbWFrZSBpdCBhdmFpbGFibGUgdG8gdGhlIG5leHQKICAgIC8vIHN0ZXAgb2YgdGhlIGdlbmVyYXRvci4KICAgIG91dHB1dEVsZW1lbnQubGFzdFByb21pc2VWYWx1ZSA9IHZhbHVlOwogICAgcmV0dXJuIG5leHQudmFsdWUucmVzcG9uc2U7CiAgfSk7Cn0KCi8qKgogKiBHZW5lcmF0b3IgZnVuY3Rpb24gd2hpY2ggaXMgY2FsbGVkIGJldHdlZW4gZWFjaCBhc3luYyBzdGVwIG9mIHRoZSB1cGxvYWQKICogcHJvY2Vzcy4KICogQHBhcmFtIHtzdHJpbmd9IGlucHV0SWQgRWxlbWVudCBJRCBvZiB0aGUgaW5wdXQgZmlsZSBwaWNrZXIgZWxlbWVudC4KICogQHBhcmFtIHtzdHJpbmd9IG91dHB1dElkIEVsZW1lbnQgSUQgb2YgdGhlIG91dHB1dCBkaXNwbGF5LgogKiBAcmV0dXJuIHshSXRlcmFibGU8IU9iamVjdD59IEl0ZXJhYmxlIG9mIG5leHQgc3RlcHMuCiAqLwpmdW5jdGlvbiogdXBsb2FkRmlsZXNTdGVwKGlucHV0SWQsIG91dHB1dElkKSB7CiAgY29uc3QgaW5wdXRFbGVtZW50ID0gZG9jdW1lbnQuZ2V0RWxlbWVudEJ5SWQoaW5wdXRJZCk7CiAgaW5wdXRFbGVtZW50LmRpc2FibGVkID0gZmFsc2U7CgogIGNvbnN0IG91dHB1dEVsZW1lbnQgPSBkb2N1bWVudC5nZXRFbGVtZW50QnlJZChvdXRwdXRJZCk7CiAgb3V0cHV0RWxlbWVudC5pbm5lckhUTUwgPSAnJzsKCiAgY29uc3QgcGlja2VkUHJvbWlzZSA9IG5ldyBQcm9taXNlKChyZXNvbHZlKSA9PiB7CiAgICBpbnB1dEVsZW1lbnQuYWRkRXZlbnRMaXN0ZW5lcignY2hhbmdlJywgKGUpID0+IHsKICAgICAgcmVzb2x2ZShlLnRhcmdldC5maWxlcyk7CiAgICB9KTsKICB9KTsKCiAgY29uc3QgY2FuY2VsID0gZG9jdW1lbnQuY3JlYXRlRWxlbWVudCgnYnV0dG9uJyk7CiAgaW5wdXRFbGVtZW50LnBhcmVudEVsZW1lbnQuYXBwZW5kQ2hpbGQoY2FuY2VsKTsKICBjYW5jZWwudGV4dENvbnRlbnQgPSAnQ2FuY2VsIHVwbG9hZCc7CiAgY29uc3QgY2FuY2VsUHJvbWlzZSA9IG5ldyBQcm9taXNlKChyZXNvbHZlKSA9PiB7CiAgICBjYW5jZWwub25jbGljayA9ICgpID0+IHsKICAgICAgcmVzb2x2ZShudWxsKTsKICAgIH07CiAgfSk7CgogIC8vIENhbmNlbCB1cGxvYWQgaWYgdXNlciBoYXNuJ3QgcGlja2VkIGFueXRoaW5nIGluIHRpbWVvdXQuCiAgY29uc3QgdGltZW91dFByb21pc2UgPSBuZXcgUHJvbWlzZSgocmVzb2x2ZSkgPT4gewogICAgc2V0VGltZW91dCgoKSA9PiB7CiAgICAgIHJlc29sdmUobnVsbCk7CiAgICB9LCBGSUxFX0NIQU5HRV9USU1FT1VUX01TKTsKICB9KTsKCiAgLy8gV2FpdCBmb3IgdGhlIHVzZXIgdG8gcGljayB0aGUgZmlsZXMuCiAgY29uc3QgZmlsZXMgPSB5aWVsZCB7CiAgICBwcm9taXNlOiBQcm9taXNlLnJhY2UoW3BpY2tlZFByb21pc2UsIHRpbWVvdXRQcm9taXNlLCBjYW5jZWxQcm9taXNlXSksCiAgICByZXNwb25zZTogewogICAgICBhY3Rpb246ICdzdGFydGluZycsCiAgICB9CiAgfTsKCiAgaWYgKCFmaWxlcykgewogICAgcmV0dXJuIHsKICAgICAgcmVzcG9uc2U6IHsKICAgICAgICBhY3Rpb246ICdjb21wbGV0ZScsCiAgICAgIH0KICAgIH07CiAgfQoKICBjYW5jZWwucmVtb3ZlKCk7CgogIC8vIERpc2FibGUgdGhlIGlucHV0IGVsZW1lbnQgc2luY2UgZnVydGhlciBwaWNrcyBhcmUgbm90IGFsbG93ZWQuCiAgaW5wdXRFbGVtZW50LmRpc2FibGVkID0gdHJ1ZTsKCiAgZm9yIChjb25zdCBmaWxlIG9mIGZpbGVzKSB7CiAgICBjb25zdCBsaSA9IGRvY3VtZW50LmNyZWF0ZUVsZW1lbnQoJ2xpJyk7CiAgICBsaS5hcHBlbmQoc3BhbihmaWxlLm5hbWUsIHtmb250V2VpZ2h0OiAnYm9sZCd9KSk7CiAgICBsaS5hcHBlbmQoc3BhbigKICAgICAgICBgKCR7ZmlsZS50eXBlIHx8ICduL2EnfSkgLSAke2ZpbGUuc2l6ZX0gYnl0ZXMsIGAgKwogICAgICAgIGBsYXN0IG1vZGlmaWVkOiAkewogICAgICAgICAgICBmaWxlLmxhc3RNb2RpZmllZERhdGUgPyBmaWxlLmxhc3RNb2RpZmllZERhdGUudG9Mb2NhbGVEYXRlU3RyaW5nKCkgOgogICAgICAgICAgICAgICAgICAgICAgICAgICAgICAgICAgICAnbi9hJ30gLSBgKSk7CiAgICBjb25zdCBwZXJjZW50ID0gc3BhbignMCUgZG9uZScpOwogICAgbGkuYXBwZW5kQ2hpbGQocGVyY2VudCk7CgogICAgb3V0cHV0RWxlbWVudC5hcHBlbmRDaGlsZChsaSk7CgogICAgY29uc3QgZmlsZURhdGFQcm9taXNlID0gbmV3IFByb21pc2UoKHJlc29sdmUpID0+IHsKICAgICAgY29uc3QgcmVhZGVyID0gbmV3IEZpbGVSZWFkZXIoKTsKICAgICAgcmVhZGVyLm9ubG9hZCA9IChlKSA9PiB7CiAgICAgICAgcmVzb2x2ZShlLnRhcmdldC5yZXN1bHQpOwogICAgICB9OwogICAgICByZWFkZXIucmVhZEFzQXJyYXlCdWZmZXIoZmlsZSk7CiAgICB9KTsKICAgIC8vIFdhaXQgZm9yIHRoZSBkYXRhIHRvIGJlIHJlYWR5LgogICAgbGV0IGZpbGVEYXRhID0geWllbGQgewogICAgICBwcm9taXNlOiBmaWxlRGF0YVByb21pc2UsCiAgICAgIHJlc3BvbnNlOiB7CiAgICAgICAgYWN0aW9uOiAnY29udGludWUnLAogICAgICB9CiAgICB9OwoKICAgIC8vIFVzZSBhIGNodW5rZWQgc2VuZGluZyB0byBhdm9pZCBtZXNzYWdlIHNpemUgbGltaXRzLiBTZWUgYi82MjExNTY2MC4KICAgIGxldCBwb3NpdGlvbiA9IDA7CiAgICB3aGlsZSAocG9zaXRpb24gPCBmaWxlRGF0YS5ieXRlTGVuZ3RoKSB7CiAgICAgIGNvbnN0IGxlbmd0aCA9IE1hdGgubWluKGZpbGVEYXRhLmJ5dGVMZW5ndGggLSBwb3NpdGlvbiwgTUFYX1BBWUxPQURfU0laRSk7CiAgICAgIGNvbnN0IGNodW5rID0gbmV3IFVpbnQ4QXJyYXkoZmlsZURhdGEsIHBvc2l0aW9uLCBsZW5ndGgpOwogICAgICBwb3NpdGlvbiArPSBsZW5ndGg7CgogICAgICBjb25zdCBiYXNlNjQgPSBidG9hKFN0cmluZy5mcm9tQ2hhckNvZGUuYXBwbHkobnVsbCwgY2h1bmspKTsKICAgICAgeWllbGQgewogICAgICAgIHJlc3BvbnNlOiB7CiAgICAgICAgICBhY3Rpb246ICdhcHBlbmQnLAogICAgICAgICAgZmlsZTogZmlsZS5uYW1lLAogICAgICAgICAgZGF0YTogYmFzZTY0LAogICAgICAgIH0sCiAgICAgIH07CiAgICAgIHBlcmNlbnQudGV4dENvbnRlbnQgPQogICAgICAgICAgYCR7TWF0aC5yb3VuZCgocG9zaXRpb24gLyBmaWxlRGF0YS5ieXRlTGVuZ3RoKSAqIDEwMCl9JSBkb25lYDsKICAgIH0KICB9CgogIC8vIEFsbCBkb25lLgogIHlpZWxkIHsKICAgIHJlc3BvbnNlOiB7CiAgICAgIGFjdGlvbjogJ2NvbXBsZXRlJywKICAgIH0KICB9Owp9CgpzY29wZS5nb29nbGUgPSBzY29wZS5nb29nbGUgfHwge307CnNjb3BlLmdvb2dsZS5jb2xhYiA9IHNjb3BlLmdvb2dsZS5jb2xhYiB8fCB7fTsKc2NvcGUuZ29vZ2xlLmNvbGFiLl9maWxlcyA9IHsKICBfdXBsb2FkRmlsZXMsCiAgX3VwbG9hZEZpbGVzQ29udGludWUsCn07Cn0pKHNlbGYpOwo=",
              "ok": true,
              "headers": [
                [
                  "content-type",
                  "application/javascript"
                ]
              ],
              "status": 200,
              "status_text": ""
            }
          },
          "base_uri": "https://localhost:8080/",
          "height": 457
        },
        "outputId": "211804d9-8dd6-4f04-f8b4-aff254c12908"
      },
      "source": [
        "uploaded=files.upload()\n",
        "\n",
        "for fn in uploaded.keys():\n",
        " \n",
        "  # predicting images\n",
        "  path='/content/' + fn\n",
        "  img=image.load_img(path, target_size=(150, 150))\n",
        "  \n",
        "  x=image.img_to_array(img)\n",
        "  x=np.expand_dims(x, axis=0)\n",
        "  images = np.vstack([x])\n",
        "  \n",
        "  classes = model.predict(images, batch_size=10)\n",
        "  \n",
        "  print(classes[0])\n",
        "  \n",
        "  if classes[0]>0:\n",
        "    print(fn + \" is a dog\")\n",
        "    \n",
        "  else:\n",
        "    print(fn + \" is a cat\")\n",
        " "
      ],
      "execution_count": 20,
      "outputs": [
        {
          "output_type": "display_data",
          "data": {
            "text/html": [
              "\n",
              "     <input type=\"file\" id=\"files-e3d98f09-d646-465e-8aed-99e77265e621\" name=\"files[]\" multiple disabled />\n",
              "     <output id=\"result-e3d98f09-d646-465e-8aed-99e77265e621\">\n",
              "      Upload widget is only available when the cell has been executed in the\n",
              "      current browser session. Please rerun this cell to enable.\n",
              "      </output>\n",
              "      <script src=\"/nbextensions/google.colab/files.js\"></script> "
            ],
            "text/plain": [
              "<IPython.core.display.HTML object>"
            ]
          },
          "metadata": {
            "tags": []
          }
        },
        {
          "output_type": "stream",
          "text": [
            "Saving Cat1.jpg to Cat1 (5).jpg\n",
            "Saving Cat2.jfif to Cat2.jfif\n",
            "Saving Cat3.jfif to Cat3 (3).jfif\n",
            "Saving Dog1.jpg to Dog1 (5).jpg\n",
            "Saving Dog2.jpg to Dog2 (5).jpg\n",
            "Saving Dog3.jpg to Dog3 (5).jpg\n",
            "[0.]\n",
            "Cat1.jpg is a cat\n",
            "[0.]\n",
            "Cat2.jfif is a cat\n",
            "[0.]\n",
            "Cat3.jfif is a cat\n",
            "[1.]\n",
            "Dog1.jpg is a dog\n",
            "[1.]\n",
            "Dog2.jpg is a dog\n",
            "[1.]\n",
            "Dog3.jpg is a dog\n"
          ],
          "name": "stdout"
        }
      ]
    }
  ]
}